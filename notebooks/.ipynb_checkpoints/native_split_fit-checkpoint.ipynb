{
 "cells": [
  {
   "cell_type": "code",
   "execution_count": 1,
   "metadata": {
    "scrolled": true
   },
   "outputs": [
    {
     "name": "stderr",
     "output_type": "stream",
     "text": [
      "\u001b[1m\u001b[36mINFO: \u001b[39m\u001b[22m\u001b[36mRecompiling stale cache file /home/data/.julia/lib/v0.6/Interpolations.ji for module Interpolations.\n",
      "\u001b[39m"
     ]
    }
   ],
   "source": [
    "using Interpolations"
   ]
  },
  {
   "cell_type": "code",
   "execution_count": 2,
   "metadata": {
    "collapsed": true
   },
   "outputs": [],
   "source": [
    "using PyPlot, StatsBase"
   ]
  },
  {
   "cell_type": "code",
   "execution_count": 9,
   "metadata": {},
   "outputs": [
    {
     "data": {
      "image/png": "[encoded data removed]",
      "text/plain": [
       "PyPlot.Figure(PyObject <matplotlib.figure.Figure object at 0x7f43076c6510>)"
      ]
     },
     "metadata": {},
     "output_type": "display_data"
    },
    {
     "data": {
      "text/plain": [
       "PyObject <matplotlib.collections.PathCollection object at 0x7f43074c3c10>"
      ]
     },
     "execution_count": 9,
     "metadata": {},
     "output_type": "execute_result"
    }
   ],
   "source": [
    "Dx = #[-1.5, 0.2, 1., 5., 10., 15., 20.]\n",
    "     [0.,   1,   2., 3., 4.]   \n",
    "Dy = #[-1.2, 0,   .5, 1., 1.2, 2.,  1.]\n",
    "     [21.,  24., 24., 18., 16.] \n",
    "\n",
    "S = interpolate((Dx,), Dy, Gridded(Cubic(Natural())))\n",
    "\n",
    "interp_range = minimum(Dx):0.1:maximum(Dx)\n",
    "plot(interp_range, S[interp_range])\n",
    "\n",
    "extrap_range = (minimum(Dx)-1):0.1:minimum(Dx)\n",
    "plot(extrap_range, S[extrap_range], color = \"r\")\n",
    "extrap_range = maximum(Dx):0.1:maximum(Dx)+1\n",
    "plot(extrap_range, S[extrap_range], color = \"r\")\n",
    "scatter(Dx, Dy)"
   ]
  },
  {
   "cell_type": "code",
   "execution_count": null,
   "metadata": {},
   "outputs": [],
   "source": [
    "itp = S\n",
    "\n",
    "for boundary_condition in [:natural, :periodic, :notaknot, :quadratic]\n",
    "    try\n",
    "        x = collect(0:0.1:4.)\n",
    "        a,b,c = coefficient3s(itp.knots[1], itp.coefs,\n",
    "        boundary_condition = boundary_condition,\n",
    "            force_linear_extrapolation=false)\n",
    "        Dy2 = interpolate.(x, [a], [b], [c], [itp.knots[1]], [itp.coefs]);\n",
    "        plot(x,Dy2, label = boundary_condition)\n",
    "    end\n",
    "end\n",
    "\n",
    "legend()\n",
    "scatter(Dx, Dy)"
   ]
  },
  {
   "cell_type": "code",
   "execution_count": 400,
   "metadata": {},
   "outputs": [
    {
     "data": {
      "text/plain": [
       "interpolate (generic function with 5 methods)"
      ]
     },
     "execution_count": 400,
     "metadata": {},
     "output_type": "execute_result"
    }
   ],
   "source": [
    "function interpolate(a, b, c, d, x, X, v=false)\n",
    "    idx = max(searchsortedfirst(X,x)-1,1)\n",
    "    n   = length(X)\n",
    "    idx = idx >= n ? idx - 1 : idx\n",
    "    if idx < n                    # interpolation\n",
    "        return a[idx]*(x^3) + b[idx]*(x^2) + c[idx]x + d[idx]\n",
    "    end\n",
    "    error()\n",
    "end"
   ]
  },
  {
   "cell_type": "code",
   "execution_count": null,
   "metadata": {},
   "outputs": [],
   "source": [
    "function expand_array!(x2t, x2)\n",
    "    x2t[1]       = x2[1]\n",
    "    x2t[end]     = x2[end]\n",
    "    x2t[2:end-1] = cat(2, x2[2:end-1], x2[2:end-1])'[:]\n",
    "    x2t\n",
    "end\n",
    "\n",
    "function expand_array2!(rhs, y)\n",
    "    n = length(y)\n",
    "    rhs[1] = y[1]        # f₀(1) = y[1] \n",
    "    for i in 2:(n-1)\n",
    "        k = 2(i-1)       # fᵢ    = y[i]\n",
    "        rhs[k]   = y[i]  # fᵢ₊₁  = y[i] \n",
    "        rhs[k+1] = y[i]\n",
    "    end\n",
    "    rhs[n] = y[n] # fₙ    = y[n]\n",
    "end\n",
    "\n",
    "function expand_array(x2::AbstractArray{T,1}) where T\n",
    "    x2t = zeros(T,2(size(x2,1)-1))\n",
    "    expand_array!(x2t, x2)\n",
    "end\n",
    "\n",
    "function spline_coefs(x, y;\n",
    "        force_linear_extrapolation = true,\n",
    "        boundary_condition = :natural)\n",
    "    A,rhs = spline_coefs_tosolve(x, y, force_linear_extrapolation=force_linear_extrapolation,\n",
    "        boundary_condition=boundary_condition)\n",
    "    coefficients = A\\rhs\n",
    "    a,b,c,d = [coefficients[n:4:end] for n in 1:4]\n",
    "    return a,b,c,d\n",
    "end\n",
    "\n",
    "function spline_coefs_tosolve(x, y;\n",
    "        force_linear_extrapolation = true,\n",
    "        boundary_condition = :natural\n",
    "    )\n",
    "    valid_boundary_conditions = [:natural, :periodic, :notaknot, :quadratic]\n",
    "    if !(boundary_condition in valid_boundary_conditions)\n",
    "        error(\"Boundary Condition must be one of $valid_boundary_conditions not $boundary_condition\")\n",
    "    end\n",
    "\n",
    "    n   = length(x)\n",
    "    n2  = (n-1)^2\n",
    "    A   = zeros(4(n-1),4(n-1))\n",
    "    rhs = zeros(4(n-1))\n",
    "    \n",
    "    # First 2(n-1) polynomials are of the form:\n",
    "    #     fᵢ = aᵢx³ + bᵢx² +cᵢx + dᵢ\n",
    "    rhs[1:2(n-1)] = expand_array(y)\n",
    "\n",
    "    x2     = expand_array(x)\n",
    "    x2inds = expand_array(1:length(x))\n",
    "    niind = 0\n",
    "    for xi in 1:(length(x2))\n",
    "        for ni in 1:4\n",
    "            A[xi, (niind+ni)] = x2[xi]^(4-ni)\n",
    "        end\n",
    "        iseven(xi) && (niind += 4 )\n",
    "    end\n",
    "\n",
    "\n",
    "    # Next polynomials from first derivative\n",
    "    #    3ax² + 2bx + c + 0\n",
    "    niind = 1\n",
    "    for xi in 2:(n-1)\n",
    "        rind = xi + 2(n-1) - 1\n",
    "        A[rind,niind:niind+3] .= A[rind,(niind+4):(niind+7)] .= [(3*(x[xi]^2)),2x[xi],1,0]\n",
    "        A[rind,niind+4:niind+7] *= -1.\n",
    "        niind += 4\n",
    "    end\n",
    "    \n",
    "    # Next polynomials from 2nd derivative\n",
    "    #    6ax + 2b + 0 + 0\n",
    "    niind = 1\n",
    "    for xi in 2:(n-1)\n",
    "        rind = xi + 2(n-1) + n - 3\n",
    "        A[rind,niind:niind+3] .= A[rind,(niind+4):(niind+7)] .= [6*(x[xi]),2,0,0]\n",
    "        A[rind,niind+4:niind+7] *= -1.\n",
    "        niind += 4\n",
    "    end\n",
    "    \n",
    "    # Next boundary conditions:\n",
    "    # Natural Spline Satisfies:\n",
    "    # 6a₁x₁   + 2b₁ = 0\n",
    "    A[end-1,1] = 6x[1]\n",
    "    A[end-1,2] = 2.\n",
    "    # 6aₙxₙ₊₁ + 2bₙ = 0\n",
    "    A[end,4(n-2)+1]  = 6x[end]\n",
    "    A[end,4(n-2)+2]  = 2.\n",
    "    \n",
    "    return A,rhs\n",
    "end"
   ]
  },
  {
   "cell_type": "code",
   "execution_count": null,
   "metadata": {},
   "outputs": [],
   "source": [
    "A,rhs = spline_coefs_tosolve(Dx, Dy)\n",
    "A\\rhs"
   ]
  },
  {
   "cell_type": "code",
   "execution_count": null,
   "metadata": {},
   "outputs": [],
   "source": [
    "N = 15\n",
    "\n",
    "Dx = collect(1:1.:N)\n",
    "Dy = rand(N)\n",
    "\n",
    "interpolate(coefs, x, X) = interpolate(coefs..., x, X)\n",
    "coefs = spline_coefs(Dx, Dy)\n",
    "\n",
    "x_t = collect(-2:0.1:N+2)\n",
    "out = interpolate.([coefs], x_t, [Dx])\n",
    "\n",
    "plot(x_t, out)\n",
    "scatter(Dx,Dy)"
   ]
  },
  {
   "cell_type": "code",
   "execution_count": null,
   "metadata": {},
   "outputs": [],
   "source": [
    "function coefficient3s(x, y;\n",
    "        force_linear_extrapolation = true,\n",
    "        boundary_condition = :natural\n",
    "    )\n",
    "    valid_boundary_conditions = [:natural, :periodic, :notaknot, :quadratic]\n",
    "    if !(boundary_condition in valid_boundary_conditions)\n",
    "        error(\"Boundary Condition must be one of $valid_boundary_conditions not $boundary_condition\")\n",
    "    end\n",
    "    \n",
    "    const x1   = 0.\n",
    "    const xend = 0.\n",
    "\n",
    "    n   = length(x)\n",
    "    A   = zeros(n,n)\n",
    "    rx  = zeros(n)\n",
    "    for i in 2:(n-1)\n",
    "        A[i-1,i]  = 1.0/3.0*(x[i]-x[i-1]);\n",
    "        A[i,i]    = 2.0/3.0*(x[i+1]-x[i-1]);\n",
    "        A[i+1,i]  = 1.0/3.0*(x[i+1]-x[i]);\n",
    "        rx[i]  = (y[i+1]-y[i])/(x[i+1]-x[i]) - (y[i]-y[i-1])/(x[i]-x[i-1])\n",
    "    end\n",
    "        \n",
    "    if boundary_condition == :natural\n",
    "        A[1,1] = 6.0\n",
    "        A[2,1] = 2.0\n",
    "        rx[1] = x1\n",
    "\n",
    "        A[n,n] = 6.0\n",
    "        A[n-1,n] = 2.0\n",
    "        rx[n] = xend\n",
    "    elseif boundary_condition == :periodic\n",
    "        A[1,1] = 2.0*(x[2]-x[1])\n",
    "        A[2,1] = 1.0*(x[2]-x[1])\n",
    "        rx[1]  = 3.0*((y[2]-y[1])/(x[2]-x[1])-x1)\n",
    "\n",
    "        A[n,n]   = 2.0*(x[n]-x[n-1])\n",
    "        A[n-1,n] = 1.0*(x[n]-x[n-1])\n",
    "        rx[n]    = 3.0*(0-(y[n]-y[n-1])/(x[n]-x[n-1]))\n",
    "    elseif boundary_condition == :notanot\n",
    "        A[1,1] = A[1,2]\n",
    "        A[n,n-1] = A[n,n]\n",
    "    elseif boundary_condition == :quadratic\n",
    "        A[1,1] = 1.\n",
    "        A[n,n] = 1.\n",
    "    end\n",
    "    \n",
    "    display(A)\n",
    "    display(rx)\n",
    "    \n",
    "    b = A \\ rx;\n",
    "\n",
    "    a = zeros(n)\n",
    "    c = zeros(n)\n",
    "    for i in 1:(n-1)\n",
    "        a[i]=1.0/3.0*(b[i+1]-b[i])/(x[i+1]-x[i])\n",
    "        c[i]=(y[i+1]-y[i])/(x[i+1]-x[i])- 1.0/3.0*(2.0*b[i]+b[i+1])*(x[i+1]-x[i])\n",
    "    end\n",
    "\n",
    "    if force_linear_extrapolation\n",
    "        b[1]   = 0.0\n",
    "        b[n]   = 0.0\n",
    "        a[n]   = 0.0\n",
    "        h      = x[n]-x[n-1];\n",
    "        c[n]   = 3a[n-1] * (h * h)  +  2b[n-1] * h  +  c[n-1]\n",
    "    end\n",
    "\n",
    "    return a, b, c\n",
    "end\n"
   ]
  },
  {
   "cell_type": "code",
   "execution_count": null,
   "metadata": {},
   "outputs": [],
   "source": [
    "figure(figsize=(10,2))\n",
    "A_real = sin.(linspace(1,20,10500))\n",
    "knots = (sort(unique(sample(1:10000,40,replace=false))),)\n",
    "A = A_real[knots[1]]\n",
    "\n",
    "points_to_interp = -1000:1:11000\n",
    "s1 = interpolate(knots, A, Gridded(Cubic(Reflect())))\n",
    "title(\"Cubic Interpolation\", size = 10)\n",
    "plot(points_to_interp,s1[points_to_interp])\n",
    "scatter(knots[1], A, marker=\"x\")"
   ]
  },
  {
   "cell_type": "code",
   "execution_count": null,
   "metadata": {},
   "outputs": [],
   "source": [
    "A_real = sin.(linspace(1,20,10000))\n",
    "knots = (sort(unique(sample(1:10000,40,replace=false))),)\n",
    "A = A_real[knots[1]]\n",
    "\n",
    "figure(figsize=(4,4))\n",
    "subplot(2,2,1)\n",
    "title(\"Ground Truth\", size=10)\n",
    "scatter(knots[1], A, marker=\"x\")\n",
    "plot(A_real)\n",
    "\n",
    "\n",
    "subplot(2,2,2)\n",
    "s1 = interpolate(knots, A, Gridded(Linear()))\n",
    "title(\"Linear Interpolation\", size = 10)\n",
    "plot(1:1:10000,s1[1:1:10000])\n",
    "scatter(knots[1], A, marker=\"x\")\n",
    "\n",
    "subplot(2,2,3)\n",
    "s1 = interpolate(knots, A, Gridded(Cubic(Reflect())))\n",
    "title(\"Cubic Interpolation\", size = 10)\n",
    "plot(1:1:10000,s1[1:1:10000])\n",
    "scatter(knots[1], A, marker=\"x\")\n",
    "\n",
    "tight_layout()"
   ]
  },
  {
   "cell_type": "code",
   "execution_count": null,
   "metadata": {},
   "outputs": [],
   "source": [
    "\n",
    "\n",
    "function interp(x, m_a, m_b, m_c, m_x, m_y, v=false)\n",
    "    it  = searchsortedfirst(m_x,x)\n",
    "    idx = max(it-1,1)\n",
    "    h   = x - m_x[idx];\n",
    "    \n",
    "    if (x < m_x[1]) # extrapolation to the left\n",
    "        v && println(\"extrap back\")\n",
    "        interpol=(m_b0*h + m_c0)*h + m_y[1];\n",
    "    elseif (x>m_x[n])# extrapolation to the right\n",
    "        v && println(\"extrap fwd\")\n",
    "        interpol=(m_b[n-1]*h + m_c[n])*h + m_y[n-1];\n",
    "    else # interpolation\n",
    "        v && println(\"interp $it $idx $h\")\n",
    "        interpol=((m_a[idx]*h + m_b[idx])*h + m_c[idx])*h + m_y[idx];\n",
    "    end\n",
    "    interpol\n",
    "end\n",
    "\n",
    "interp(s::CubicSpline, x) = interp(x, s.a, s.b, s.c, s.x, s.y)\n",
    "\n",
    "mutable struct CubicSpline\n",
    "    a\n",
    "    b\n",
    "    c\n",
    "    x\n",
    "    y\n",
    "    opts::Any\n",
    "end\n",
    "\n",
    "\"\"\"\n",
    "fit_spline(x, y;\n",
    "    m_left_value = 0.\n",
    "    m_right_value = 0.\n",
    "    m_force_linear_extrapolation = true\n",
    "    m_left,m_right = :first_deriv,:first_deriv\n",
    ")\n",
    "\"\"\"\n",
    "function fit_spline(x, y;\n",
    "    m_left_value = 0.\n",
    "    m_right_value = 0.\n",
    "    m_force_linear_extrapolation = true\n",
    "    m_left,m_right = :first_deriv,:first_deriv\n",
    "    )\n",
    "    \n",
    "    m_a, m_b, m_c = get_all_coefs(x, y, m_left_value, m_right_value, m_force_linear_extrapolation, \n",
    "m_left,m_right)\n",
    "    \n",
    "    CubicSpline(m_a, m_b, m_c, x, y, (m_left_value, m_right_value, m_force_linear_extrapolation, \n",
    "m_left,m_right))\n",
    "end\n",
    "\n",
    "\n",
    "function get_all_coefs(x, y, m_left_value, m_right_value, m_force_linear_extrapolation, \n",
    "m_left,m_right)  \n",
    "    n   = length(x)\n",
    "    A   = zeros(n,n)\n",
    "    rhs = zeros(n)\n",
    "    for i in 2:(n-1)\n",
    "        A[i-1,i]  = 1.0/3.0*(x[i]-x[i-1]);\n",
    "        A[i,i]    = 2.0/3.0*(x[i+1]-x[i-1]);\n",
    "        A[i+1,i]  = 1.0/3.0*(x[i+1]-x[i]);\n",
    "        rhs[i]  = (y[i+1]-y[i])/(x[i+1]-x[i]) - (y[i]-y[i-1])/(x[i]-x[i-1])\n",
    "    end\n",
    "    \n",
    "    A[1,1] = 2.0;\n",
    "    A[2,1] = 0.0;\n",
    "    rhs[1] = m_left_value;\n",
    "\n",
    "    A[n,n]   = 2.0;\n",
    "    A[n-1,n] = 0.0;\n",
    "    rhs[n]   = m_right_value;\n",
    "\n",
    "    if (m_left == :second_deriv)\n",
    "        A[1,1] = 2.0;\n",
    "        A[2,1] = 0.0;\n",
    "        rhs[0] = m_left_value;\n",
    "    elseif (m_left == :first_deriv)\n",
    "        A[1,1] = 2.0*(x[2]-x[1]);\n",
    "        A[2,1] = 1.0*(x[2]-x[1]);\n",
    "        rhs[1] = 3.0*((y[2]-y[1])/(x[2]-x[1])-m_left_value);\n",
    "    else\n",
    "        assert(false);\n",
    "    end\n",
    "    \n",
    "    if (m_right == :second_deriv)\n",
    "    A[n,n] = 2.0;\n",
    "    A[n-1,n] = 0.0;\n",
    "    rhs[n] = m_right_value;\n",
    "    elseif (m_right == :first_deriv)\n",
    "        A[n,n] = 2.0*(x[n]-x[n-1]);\n",
    "        A[n-1,n] =1.0*(x[n]-x[n-1]);\n",
    "        rhs[n]=3.0*(m_right_value-(y[n]-y[n-1])/(x[n]-x[n-1]));\n",
    "    end\n",
    "\n",
    "    m_b = A \\ rhs;\n",
    "\n",
    "    m_a = zeros(n)\n",
    "    m_c = zeros(n)\n",
    "    for i in 1:(n-1)\n",
    "        m_a[i]=1.0/3.0*(m_b[i+1]-m_b[i])/(x[i+1]-x[i])\n",
    "        m_c[i]=(y[i+1]-y[i])/(x[i+1]-x[i])- 1.0/3.0*(2.0*m_b[i]+m_b[i+1])*(x[i+1]-x[i])\n",
    "    end\n",
    "\n",
    "    m_b0   = (m_force_linear_extrapolation==false) ? m_b[1] : 0.0;\n",
    "    m_c0   = m_c[1];\n",
    "    h      = x[n]-x[n-1];\n",
    "    m_a[n] = 0.0;\n",
    "    m_c[n] = 3.0*m_a[n-1]*h*h+2.0*m_b[n-1]*h+m_c[n-1]\n",
    "    m_force_linear_extrapolation && (m_b[n]=0.0)\n",
    "    return m_a, m_b, m_c\n",
    "end"
   ]
  },
  {
   "cell_type": "code",
   "execution_count": null,
   "metadata": {
    "collapsed": true
   },
   "outputs": [],
   "source": [
    "using StatsBase"
   ]
  },
  {
   "cell_type": "code",
   "execution_count": null,
   "metadata": {
    "collapsed": true
   },
   "outputs": [],
   "source": [
    "Y = rand(100)\n",
    "x = sort(unique(sample(1:100,100,replace=false)))\n",
    "y = Y[x];"
   ]
  },
  {
   "cell_type": "code",
   "execution_count": null,
   "metadata": {},
   "outputs": [],
   "source": [
    "figure(figsize=(6,3))\n",
    "title(\"Ground Truth\")\n",
    "\n",
    "subplot(1,2,1)\n",
    "scatter(x,y)\n",
    "plot(Y)\n",
    "\n",
    "subplot(1,2,2)\n",
    "s1 = fit_spline(x,y)\n",
    "title(\"Interpolation\")\n",
    "plot(1:1:100,interp.(s1,collect(1:1:100)))\n",
    "scatter(x,y)"
   ]
  },
  {
   "cell_type": "code",
   "execution_count": null,
   "metadata": {
    "collapsed": true
   },
   "outputs": [],
   "source": [
    "import Base.getindex"
   ]
  },
  {
   "cell_type": "code",
   "execution_count": null,
   "metadata": {
    "collapsed": true
   },
   "outputs": [],
   "source": []
  },
  {
   "cell_type": "code",
   "execution_count": null,
   "metadata": {},
   "outputs": [],
   "source": []
  },
  {
   "cell_type": "code",
   "execution_count": null,
   "metadata": {},
   "outputs": [],
   "source": []
  },
  {
   "cell_type": "code",
   "execution_count": null,
   "metadata": {},
   "outputs": [],
   "source": []
  },
  {
   "cell_type": "code",
   "execution_count": null,
   "metadata": {
    "collapsed": true
   },
   "outputs": [],
   "source": [
    "\n",
    "\n",
    "\n",
    "\n",
    "\n",
    "\n",
    "m_x = copy(x);\n",
    "m_y = copy(y);"
   ]
  },
  {
   "cell_type": "code",
   "execution_count": null,
   "metadata": {},
   "outputs": [],
   "source": []
  },
  {
   "cell_type": "code",
   "execution_count": null,
   "metadata": {},
   "outputs": [],
   "source": [
    "interp.(1:100:1000, true)"
   ]
  },
  {
   "cell_type": "code",
   "execution_count": null,
   "metadata": {},
   "outputs": [],
   "source": [
    "using PyPlot\n",
    "figure(figsize=(3,3))\n",
    "scatter(x,y)\n",
    "inds = -1000:maximum(x)\n",
    "plot(inds,interp.(inds),color=\"k\")"
   ]
  },
  {
   "cell_type": "code",
   "execution_count": null,
   "metadata": {},
   "outputs": [],
   "source": [
    "x"
   ]
  },
  {
   "cell_type": "code",
   "execution_count": null,
   "metadata": {},
   "outputs": [],
   "source": [
    "idx = 20\n",
    "order = 1\n",
    "\n",
    "function deriv(order, x)\n",
    "    it = min(m_x[1],m_x[end],x)\n",
    "    idx = max(it-m_x[1]-1,1)\n",
    "    \n",
    "    h= x - m_x[idx];\n",
    "    if x < m_x[1] # extrapolation to the left\n",
    "        if order == 1\n",
    "            interpol=2.0*m_b0*h + m_c0;\n",
    "        elseif order == 2\n",
    "            interpol=2.0*m_b0*h;\n",
    "        else\n",
    "            interpol=0.0;\n",
    "        end\n",
    "    elseif x > m_x[n-1] # extrapolation to the right\n",
    "        if order == 1\n",
    "            interpol = 2.0*m_b[n]*h + m_c[n];\n",
    "        elseif order == 2\n",
    "            interpol = 2.0*m_b[n];\n",
    "        else\n",
    "            interpol = 0.0;\n",
    "        end\n",
    "    else # interpolation\n",
    "        if order == 1\n",
    "            interpol = (3.0*m_a[idx]*h + 2.0*m_b[idx])*h + m_c[idx];\n",
    "        elseif order == 2\n",
    "            interpol = 6.0*m_a[idx]*h + 2.0*m_b[idx];\n",
    "        elseif order == 3\n",
    "            interpol = 6.0*m_a[idx];\n",
    "        else\n",
    "            interpol = 0.0;\n",
    "        end\n",
    "    end\n",
    "    interpol\n",
    "end"
   ]
  },
  {
   "cell_type": "code",
   "execution_count": null,
   "metadata": {
    "collapsed": true
   },
   "outputs": [],
   "source": []
  }
 ],
 "metadata": {
  "kernelspec": {
   "display_name": "Julia 0.6.0",
   "language": "julia",
   "name": "julia-0.6"
  },
  "language_info": {
   "file_extension": ".jl",
   "mimetype": "application/julia",
   "name": "julia",
   "version": "0.6.0"
  }
 },
 "nbformat": 4,
 "nbformat_minor": 2
}
